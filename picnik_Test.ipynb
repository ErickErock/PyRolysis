{
 "cells": [
  {
   "cell_type": "code",
   "execution_count": 1,
   "metadata": {},
   "outputs": [],
   "source": [
    "import picnik as pnk           #path: Materiales/Pyrolysis \\Kinetics/PyRolysis\n",
    "import matplotlib.pyplot as plt\n",
    "import pandas as pd\n",
    "import numpy as np\n",
    "from scipy.optimize import minimize_scalar as mini\n",
    "from scipy.integrate import romberg \n",
    "%matplotlib tk"
   ]
  },
  {
   "cell_type": "code",
   "execution_count": 10,
   "metadata": {},
   "outputs": [],
   "source": [
    "#NP_TG\n",
    "f = ['examples/final_NP/NP_050/NP_050.csv',\n",
    "    'examples/final_NP/NP_075/NP_075.csv',\n",
    "    'examples/final_NP/NP_100/NP_100.csv',\n",
    "    'examples/final_NP/NP_120/NP_120.csv']"
   ]
  },
  {
   "cell_type": "code",
   "execution_count": 14,
   "metadata": {},
   "outputs": [],
   "source": [
    "#NP_SCO_H\n",
    "f = ['examples/Magneto/H/B/NP_025_hB.csv',\n",
    "     'examples/Magneto/H/B/NP_050_hB.csv',\n",
    "     'examples/Magneto/H/B/NP_200_hB.csv']"
   ]
  },
  {
   "cell_type": "code",
   "execution_count": 24,
   "metadata": {},
   "outputs": [],
   "source": [
    "#NP_SCO_C\n",
    "f = ['examples/Magneto/C/B/NP_025_cB.csv',\n",
    "     'examples/Magneto/C/B/NP_050_cB.csv',\n",
    "     'examples/Magneto/C/B/NP_200_cB.csv']"
   ]
  },
  {
   "cell_type": "code",
   "execution_count": 2,
   "metadata": {},
   "outputs": [],
   "source": [
    "#TCN_TG\n",
    "f = ['examples/final_TCN/_050/TCN_050.csv',\n",
    "     'examples/final_TCN/_075/TCN_075.csv',\n",
    "     'examples/final_TCN/_100/TCN_100.csv',\n",
    "     'examples/final_TCN/_120/TCN_120.csv']"
   ]
  },
  {
   "cell_type": "code",
   "execution_count": 198,
   "metadata": {},
   "outputs": [],
   "source": [
    "#TCN_SCO_H\n",
    "f = ['examples/exp-H/H_040.csv',\n",
    "     'examples/exp-H/H_060.csv',\n",
    "     'examples/exp-H/H_100.csv']"
   ]
  },
  {
   "cell_type": "code",
   "execution_count": 102,
   "metadata": {},
   "outputs": [],
   "source": [
    "#TCN_SCO_C\n",
    "f = ['examples/exp-C/C_040.csv',\n",
    "     'examples/exp-C/C_060.csv',\n",
    "     'examples/exp-C/C_100.csv']"
   ]
  },
  {
   "cell_type": "code",
   "execution_count": 3,
   "metadata": {},
   "outputs": [
    {
     "name": "stdout",
     "output_type": "stream",
     "text": [
      "Files to be used: \n",
      "['examples/final_TCN/_050/TCN_050.csv', 'examples/final_TCN/_075/TCN_075.csv', 'examples/final_TCN/_100/TCN_100.csv', 'examples/final_TCN/_120/TCN_120.csv']\n",
      " \n",
      "Reading files and creating DataFrames...\n",
      "\n",
      "The computed heating rates are:\n",
      "\n",
      "4.95 K/min\n",
      "7.44 K/min\n",
      "9.92 K/min\n",
      "12.00 K/min\n",
      "The temperature range was set to (350.0,590.0) K\n",
      "Computing conversion values...\n",
      "Done\n",
      "Creating Isoconversion DataFrames...\n",
      "Done\n"
     ]
    }
   ],
   "source": [
    "xtr   = pnk.DataExtraction()\n",
    "B, T0 = xtr.read_files(f)\n",
    "xtr.Conversion(350,590)\n",
    "T_DF, t_DF, dadt_DF, aT_DF, at_DF = xtr.Isoconversion(advanced = True, method='step', d_a = 0.005)"
   ]
  },
  {
   "cell_type": "code",
   "execution_count": 4,
   "metadata": {},
   "outputs": [],
   "source": [
    "Ea = pnk.ActivationEnergy(B, T0, TempIsoDF = T_DF, TempAdvIsoDF=aT_DF, timeAdvIsoDF=at_DF)"
   ]
  },
  {
   "cell_type": "code",
   "execution_count": 5,
   "metadata": {},
   "outputs": [
    {
     "name": "stdout",
     "output_type": "stream",
     "text": [
      "Advanced Vyazovkin method: Computing activation energies...\n"
     ]
    },
    {
     "name": "stderr",
     "output_type": "stream",
     "text": [
      "/home/erock/Materiales/Pyrolysis Kinetics/PyRolysis/integration.py:81: RuntimeWarning: divide by zero encountered in double_scalars\n",
      "  hp = (b-a)/Nprime\n",
      "/home/erock/Materiales/Pyrolysis Kinetics/PyRolysis/integration.py:88: RuntimeWarning: invalid value encountered in double_scalars\n",
      "  Icp = I0p +(hp*Fcp)\n"
     ]
    },
    {
     "name": "stdout",
     "output_type": "stream",
     "text": [
      "Done.\n"
     ]
    }
   ],
   "source": [
    "aVy = Ea.aVy((1,110),N=1,p=0.90,method='trapezoid')"
   ]
  },
  {
   "cell_type": "code",
   "execution_count": 6,
   "metadata": {},
   "outputs": [
    {
     "data": {
      "text/plain": [
       "(0.05, 0.95)"
      ]
     },
     "execution_count": 6,
     "metadata": {},
     "output_type": "execute_result"
    }
   ],
   "source": [
    "#plt.errorbar(at_DF.index.values[25:-5:20],\n",
    "#             aVy_fit[0][::20],\n",
    "#             aVy_fit[1][::20], \n",
    "#             marker='s',\n",
    "#             elinewidth=4,\n",
    "#             alpha=0.7,\n",
    "#             label= 'Romberg')\n",
    "\n",
    "plt.errorbar(at_DF.index.values[1::3],\n",
    "             aVy[0][::3],\n",
    "             aVy[1][::3], \n",
    "             marker='s',\n",
    "             elinewidth=3,\n",
    "             alpha=0.7)\n",
    "#             label= 'Simpson')\n",
    "\n",
    "#plt.errorbar(at_DF.index.values[25:-25:20],\n",
    "#             aVy_t[0][::20],\n",
    "#             aVy_t[1][::20], \n",
    "#             marker='s',\n",
    "#             elinewidth=2,\n",
    "#             alpha=0.7,\n",
    "#             label= 'Trapecio')\n",
    "plt.legend()\n",
    "plt.xlabel(r'$\\alpha$')\n",
    "plt.ylabel(r'$E_{\\alpha}$')\n",
    "plt.xlim(0.05,0.95)"
   ]
  },
  {
   "cell_type": "code",
   "execution_count": 225,
   "metadata": {},
   "outputs": [
    {
     "name": "stdout",
     "output_type": "stream",
     "text": [
      "Exporting activation energies...\n"
     ]
    },
    {
     "name": "stdin",
     "output_type": "stream",
     "text": [
      "Input file name for the adv.Vy results: TCN_SCOh_aVy.\n"
     ]
    },
    {
     "name": "stdout",
     "output_type": "stream",
     "text": [
      "Results exported\n",
      "Done.\n"
     ]
    }
   ],
   "source": [
    "Ea.export_Ea(E_aVy=True, N=6, file_t=\"csv\" )"
   ]
  },
  {
   "cell_type": "markdown",
   "metadata": {},
   "source": [
    "## Non.isothermal prediction"
   ]
  },
  {
   "cell_type": "code",
   "execution_count": 6,
   "metadata": {},
   "outputs": [],
   "source": [
    "ap,Tp,tp = Ea.prediction(aVy[0],B=7.5,N=1,bounds = (5,5))"
   ]
  },
  {
   "cell_type": "code",
   "execution_count": 7,
   "metadata": {},
   "outputs": [
    {
     "data": {
      "text/plain": [
       "[<matplotlib.lines.Line2D at 0x7fefc17060a0>]"
      ]
     },
     "execution_count": 7,
     "metadata": {},
     "output_type": "execute_result"
    }
   ],
   "source": [
    "plt.plot(tp,ap,'.')\n",
    "plt.plot(xtr.t[1],xtr.alpha[1])"
   ]
  },
  {
   "cell_type": "markdown",
   "metadata": {},
   "source": [
    "## Isothermal (lifetime) Prediction"
   ]
  },
  {
   "cell_type": "code",
   "execution_count": 38,
   "metadata": {},
   "outputs": [],
   "source": [
    "ap,Tp,tp = Ea.prediction(aVy[0],B=0,isoT = (320), alpha=0.95,N=1,bounds = (50000,50000))\n",
    "#ap1,Tp1,tp1 = Ea.prediction(aVy[0],B=0,isoT = 420, alpha=0.25,N=1,bounds = (0.15,0.15))\n",
    "#ap2,Tp2,tp2 = Ea.prediction(aVy[0],B=0,isoT = 420, alpha=0.25,N=1,bounds = (500000,500000))"
   ]
  },
  {
   "cell_type": "code",
   "execution_count": 39,
   "metadata": {},
   "outputs": [
    {
     "data": {
      "text/plain": [
       "<matplotlib.legend.Legend at 0x7f13c97cc280>"
      ]
     },
     "execution_count": 39,
     "metadata": {},
     "output_type": "execute_result"
    }
   ],
   "source": [
    "plt.plot(tp,ap,'.',alpha=0.5,label='5')\n",
    "#plt.plot(tp1,ap1,'^--',alpha=0.5,label='0.15')\n",
    "#plt.plot(tp2,ap2,'-',alpha=0.5,label='500000')\n",
    "plt.xlabel('time [min]')\n",
    "plt.ylabel(r'conversion ($\\alpha$)')\n",
    "\n",
    "plt.legend()"
   ]
  },
  {
   "cell_type": "code",
   "execution_count": 11,
   "metadata": {},
   "outputs": [
    {
     "data": {
      "text/plain": [
       "array([7.3923, 4.4471, 3.3924, 3.2798])"
      ]
     },
     "execution_count": 11,
     "metadata": {},
     "output_type": "execute_result"
    }
   ],
   "source": [
    "at_DF.iloc[0].values[0:len(B)]"
   ]
  }
 ],
 "metadata": {
  "kernelspec": {
   "display_name": "Python 3",
   "language": "python",
   "name": "python3"
  },
  "language_info": {
   "codemirror_mode": {
    "name": "ipython",
    "version": 3
   },
   "file_extension": ".py",
   "mimetype": "text/x-python",
   "name": "python",
   "nbconvert_exporter": "python",
   "pygments_lexer": "ipython3",
   "version": "3.8.10"
  }
 },
 "nbformat": 4,
 "nbformat_minor": 4
}
